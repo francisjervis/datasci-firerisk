{
 "cells": [
  {
   "cell_type": "markdown",
   "metadata": {},
   "source": [
    "# FireRisk Prediction Models\n",
    "\n",
    " Code to predict fire incidents based on data about a given address, using various machine learning models."
   ]
  },
  {
   "cell_type": "markdown",
   "metadata": {},
   "source": [
    "## Imports"
   ]
  },
  {
   "cell_type": "code",
   "execution_count": 3,
   "metadata": {
    "collapsed": false,
    "scrolled": true
   },
   "outputs": [],
   "source": [
    "import pandas as pd\n",
    "import numpy as np\n",
    "import sklearn\n",
    "from sklearn import svm\n",
    "from sklearn.model_selection import train_test_split\n",
    "from sklearn.metrics import classification_report\n",
    "from sklearn.metrics import confusion_matrix\n",
    "from sklearn.ensemble import RandomForestClassifier\n",
    "from sklearn.multiclass import OneVsRestClassifier\n",
    "from sklearn.feature_selection import SelectFromModel\n",
    "from sklearn.neural_network import MLPClassifier\n",
    "from sklearn.tree import DecisionTreeClassifier\n",
    "from sklearn import tree\n",
    "from sklearn.linear_model import LogisticRegression\n",
    "\n",
    "from keras.models import Sequential\n",
    "from keras.layers import Dense\n",
    "from keras.utils import np_utils, to_categorical\n",
    "from keras.layers.core import Dense, Activation, Dropout\n",
    "from keras.callbacks import EarlyStopping\n",
    "from sklearn.model_selection import train_test_split\n",
    "import graphviz\n"
   ]
  },
  {
   "cell_type": "markdown",
   "metadata": {},
   "source": [
    "## Feature Engineering\n",
    "Separate quantitative features, convert categorical variables to one-hot encoding"
   ]
  },
  {
   "cell_type": "code",
   "execution_count": 4,
   "metadata": {
    "collapsed": false
   },
   "outputs": [
    {
     "name": "stdout",
     "output_type": "stream",
     "text": [
      "(194763, 62)\n",
      "feature mean: [1.92953096e+03 1.88794364e+00 2.91875017e+00 8.66113848e-01\n",
      " 5.43886668e+05 5.45155734e+03 5.97950738e+05 1.39319871e+01\n",
      " 1.41223747e+02 7.78895375e-02 1.12182499e-01 1.97565308e+02\n",
      " 4.01875844e+01 2.52009172e+00 9.17502708e+01 1.08568106e+00\n",
      " 2.03682008e+02 6.20444427e+02 4.67482630e-01 5.04520925e-02\n",
      " 6.87816795e-02 2.30969068e-02 1.84541270e+00 4.36479208e-02\n",
      " 3.80000308e-02 3.56638581e-02 1.53622608e-02 4.55168590e-02\n",
      " 1.23175346e-02 1.47358585e-02 2.47428926e-02 1.93568594e-02\n",
      " 2.92458013e-02 4.02129768e-02 2.05377818e-03 6.93150136e-04\n",
      " 2.46453382e-04 1.84377936e-02 3.15768395e-02 4.82637873e-04\n",
      " 6.65526820e-02 2.11539153e-03 1.86996503e-02 3.77433085e-02\n",
      " 1.71901234e-02 3.32866099e-02 2.71458131e-02 6.22756889e-02\n",
      " 2.25042744e-02 2.06199329e-02 2.01886395e-02 1.54033364e-04\n",
      " 1.47769340e-02 2.21654010e-02 4.40021975e-03 1.61786376e-02\n",
      " 1.22857011e-01 1.37551794e-02 9.11877513e-03 1.86020959e-02\n",
      " 6.74871511e-02 9.70410191e-03] std: [2.55295631e+01 1.32214437e+00 7.26452989e+00 2.26070442e-01\n",
      " 2.73405742e+06 2.35440971e+04 4.35350459e+06 1.45353934e+01\n",
      " 1.39595444e+02 5.27161133e-01 7.13447964e-01 1.40979913e+02\n",
      " 6.20524305e+00 7.57128420e-01 7.96281278e+01 3.33987842e+00\n",
      " 1.18026490e+02 2.87984170e+02 5.46001131e-02 1.60292584e-02\n",
      " 6.35283062e-02 3.40571651e-02 6.88700874e+00 2.04310499e-01\n",
      " 1.91196309e-01 1.85450660e-01 1.22988868e-01 2.08434821e-01\n",
      " 1.10298744e-01 1.20493622e-01 1.55340535e-01 1.37775801e-01\n",
      " 1.68494761e-01 1.96458375e-01 4.52720684e-02 2.63186185e-02\n",
      " 1.56968991e-02 1.34528218e-01 1.74870646e-01 2.19637186e-02\n",
      " 2.49245707e-01 4.59447129e-02 1.35462074e-01 1.90574792e-01\n",
      " 1.29979318e-01 1.79383978e-01 1.62508209e-01 2.41655597e-01\n",
      " 1.48316661e-01 1.42108238e-01 1.40645151e-01 1.24100619e-02\n",
      " 1.20658925e-01 1.47221249e-01 6.61880489e-02 1.26162155e-01\n",
      " 3.28273005e-01 1.16473063e-01 9.50558944e-02 1.35114980e-01\n",
      " 2.50863779e-01 9.80302622e-02]\n"
     ]
    }
   ],
   "source": [
    "x = pd.read_csv('data/molly_master_11152017.csv', low_memory=False)\n",
    "y = x.pop('Incident_Dummy')\n",
    "y = to_categorical(y)\n",
    "print \"class distribution: {}\".format(np.mean(y, axis=0))\n",
    "\n",
    "# Drop EAS, as it a unique code which will not help predict fires\n",
    "x = x.drop(\"EAS\", axis=1)\n",
    "\n",
    "for col in x.columns:\n",
    "    print col\n",
    "\n",
    "# quantitative features:\n",
    "\n",
    "x_quant = x[['Yr_Property_Built',\n",
    "       'Num_Stories', 'Num_Units', 'Perc_Ownership', 'Land_Value',\n",
    "       'Property_Area', 'Assessed_Improvement_Val', 'Tot_Rooms',\n",
    "       'landval_psqft', 'count_potential_fire_control', 'count_all_complaints',\n",
    "       'population', 'median_age', 'avg_household_size',\n",
    "       'num_housing_units', 'seasonal',\n",
    "       'num_under_18', 'total_hholds', 'gini_a', 'gini_b']].copy()\n",
    "\n",
    "x_quant['pct_vacant'] = np.where(x.num_housing_units!=0, x.vacant / x.num_housing_units, 0)\n",
    "\n",
    "x_quant['pub_assist_income'] = np.where(x.total_hholds!=0, x.hholds_pubassist / x.total_hholds, 0)\n",
    "\n",
    "x_quant['children'] = np.where(x.population!=0, x.num_under_18 / x.population, 0)\n",
    "\n",
    "# and categorical features:\n",
    "\n",
    "x_dummies = pd.get_dummies(data=x[['Neighborhood']])\n",
    "\n",
    "x_all = pd.concat([x_quant, x_dummies], axis=1)\n",
    "x_df = x_all\n",
    "print x_all.shape\n",
    "x_all = np.array(x_all)\n",
    "mean = np.mean(x_all, axis=0)\n",
    "std = np.std(x_all, axis=0)\n",
    "print \"feature mean: {} std: {}\".format(mean, std)\n",
    "\n",
    "x_all = x_all - mean\n",
    "x_all = np.divide(x_all, std) \n",
    "\n",
    "x_train, x_test, y_train, y_test = train_test_split(x_all, y, test_size=.30, random_state=415)"
   ]
  },
  {
   "cell_type": "markdown",
   "metadata": {},
   "source": [
    "# Random Forest\n",
    "Random forrest with the hyperparameters set by Molly. So far, this model is the best fit."
   ]
  },
  {
   "cell_type": "code",
   "execution_count": 4,
   "metadata": {
    "collapsed": false
   },
   "outputs": [
    {
     "name": "stderr",
     "output_type": "stream",
     "text": [
      "[Parallel(n_jobs=-1)]: Done  34 tasks      | elapsed:    4.7s\n",
      "[Parallel(n_jobs=-1)]: Done 184 tasks      | elapsed:   23.7s\n",
      "[Parallel(n_jobs=-1)]: Done 434 tasks      | elapsed:  7.7min\n",
      "[Parallel(n_jobs=-1)]: Done 784 tasks      | elapsed:  9.8min\n",
      "[Parallel(n_jobs=-1)]: Done 1000 out of 1000 | elapsed: 11.7min finished\n"
     ]
    },
    {
     "name": "stdout",
     "output_type": "stream",
     "text": [
      "('Unnamed: 0', 0.048526338878625515)\n",
      "('EAS', 0.034495346345350814)\n",
      "('Yr_Property_Built', 0.03986932218866535)\n",
      "('Num_Stories', 0.02510088762281809)\n",
      "('Num_Units', 0.06398135686989721)\n",
      "('Perc_Ownership', 0.10597499781752164)\n",
      "('Land_Value', 0.07403703106712564)\n",
      "('Property_Area', 0.06000052202529292)\n",
      "('Assessed_Improvement_Val', 0.060554831354119716)\n",
      "('Tot_Rooms', 0.03073245436399794)\n",
      "('landval_psqft', 0.03097671496522528)\n",
      "('count_potential_fire_control', 0.03300892779607881)\n",
      "('count_all_complaints', 0.03387528438377459)\n",
      "('tract', 0.042087251189332126)\n",
      "('census_block', 0.03454878241390455)\n",
      "('latlong', 0.012447011206775091)\n",
      "('inde', 0.028334483631480327)\n",
      "('county', 0.03033407264933623)\n",
      "('blkgroup', 0.027346620686388965)\n",
      "('rur_urb', 0.022463949546075914)\n",
      "('zip', 0.027994831780995984)\n",
      "('population', 0.020151638809970073)\n",
      "('median_age', 0.03404940336927649)\n",
      "('avg_household_size', 0.0031335508949377104)\n",
      "('num_housing_units', 0.0021577742713858113)\n",
      "('occupied', 0.0023235153548771398)\n",
      "('vacant', 0.0022409329225197903)\n",
      "('seasonal', 0.0021450060375811267)\n",
      "('Neighborhood', 0.002545528763197141)\n",
      "('num_under_18', 0.000737631573237699)\n",
      "('total_hholds', 0.002964186984511555)\n",
      "('hholds_pubassist', 0.0022724447938869256)\n",
      "('hholds_no_pubassist', 0.002222350104949107)\n",
      "('gini_a', 0.003082790898181526)\n",
      "('gini_b', 0.00043619107679292114)\n"
     ]
    }
   ],
   "source": [
    "clf = RandomForestClassifier(n_estimators=1000, n_jobs=-1, random_state=415, verbose=True)\n",
    "\n",
    "clf.fit(x_train, y_train)\n",
    "\n",
    "for feature in zip(x.columns, clf.feature_importances_):\n",
    "    print(feature)"
   ]
  },
  {
   "cell_type": "code",
   "execution_count": 5,
   "metadata": {
    "collapsed": false
   },
   "outputs": [
    {
     "name": "stderr",
     "output_type": "stream",
     "text": [
      "[Parallel(n_jobs=8)]: Done  34 tasks      | elapsed:    0.2s\n",
      "[Parallel(n_jobs=8)]: Done 184 tasks      | elapsed:    0.8s\n",
      "[Parallel(n_jobs=8)]: Done 434 tasks      | elapsed:    1.8s\n",
      "[Parallel(n_jobs=8)]: Done 784 tasks      | elapsed:    3.1s\n"
     ]
    },
    {
     "name": "stdout",
     "output_type": "stream",
     "text": [
      "             precision    recall  f1-score   support\n",
      "\n",
      "          0       0.94      0.98      0.96     51038\n",
      "          1       0.81      0.60      0.69      7391\n",
      "\n",
      "avg / total       0.93      0.93      0.93     58429\n",
      "\n"
     ]
    },
    {
     "name": "stderr",
     "output_type": "stream",
     "text": [
      "[Parallel(n_jobs=8)]: Done 1000 out of 1000 | elapsed:    4.0s finished\n"
     ]
    }
   ],
   "source": [
    "y_pred = clf.predict(x_test)\n",
    "\n",
    "print(classification_report(y_test, y_pred))"
   ]
  },
  {
   "cell_type": "markdown",
   "metadata": {},
   "source": [
    "# MLP with SKLearn"
   ]
  },
  {
   "cell_type": "code",
   "execution_count": 13,
   "metadata": {
    "collapsed": false
   },
   "outputs": [
    {
     "data": {
      "text/plain": [
       "MLPClassifier(activation='relu', alpha=0.0001, batch_size='auto', beta_1=0.9,\n",
       "       beta_2=0.999, early_stopping=False, epsilon=1e-08,\n",
       "       hidden_layer_sizes=(100,), learning_rate='constant',\n",
       "       learning_rate_init=0.001, max_iter=400, momentum=0.9,\n",
       "       nesterovs_momentum=True, power_t=0.5, random_state=None,\n",
       "       shuffle=True, solver='adam', tol=0.0001, validation_fraction=0.1,\n",
       "       verbose=False, warm_start=False)"
      ]
     },
     "execution_count": 13,
     "metadata": {},
     "output_type": "execute_result"
    }
   ],
   "source": [
    "clf = MLPClassifier(max_iter=400)\n",
    "\n",
    "clf.fit(x_train, y_train)"
   ]
  },
  {
   "cell_type": "code",
   "execution_count": 6,
   "metadata": {
    "collapsed": false
   },
   "outputs": [
    {
     "name": "stderr",
     "output_type": "stream",
     "text": [
      "[Parallel(n_jobs=8)]: Done  34 tasks      | elapsed:    0.1s\n",
      "[Parallel(n_jobs=8)]: Done 184 tasks      | elapsed:    0.7s\n",
      "[Parallel(n_jobs=8)]: Done 434 tasks      | elapsed:    1.6s\n",
      "[Parallel(n_jobs=8)]: Done 784 tasks      | elapsed:    3.0s\n"
     ]
    },
    {
     "name": "stdout",
     "output_type": "stream",
     "text": [
      "             precision    recall  f1-score   support\n",
      "\n",
      "          0       0.94      0.98      0.96     51038\n",
      "          1       0.81      0.60      0.69      7391\n",
      "\n",
      "avg / total       0.93      0.93      0.93     58429\n",
      "\n"
     ]
    },
    {
     "name": "stderr",
     "output_type": "stream",
     "text": [
      "[Parallel(n_jobs=8)]: Done 1000 out of 1000 | elapsed:    3.8s finished\n"
     ]
    },
    {
     "ename": "NameError",
     "evalue": "name 'y_true' is not defined",
     "output_type": "error",
     "traceback": [
      "\u001b[0;31m---------------------------------------------------------------------------\u001b[0m",
      "\u001b[0;31mNameError\u001b[0m                                 Traceback (most recent call last)",
      "\u001b[0;32m<ipython-input-6-36571c26af16>\u001b[0m in \u001b[0;36m<module>\u001b[0;34m()\u001b[0m\n\u001b[1;32m      2\u001b[0m \u001b[0;34m\u001b[0m\u001b[0m\n\u001b[1;32m      3\u001b[0m \u001b[0;32mprint\u001b[0m\u001b[0;34m(\u001b[0m\u001b[0mclassification_report\u001b[0m\u001b[0;34m(\u001b[0m\u001b[0my_test\u001b[0m\u001b[0;34m,\u001b[0m \u001b[0my_pred\u001b[0m\u001b[0;34m)\u001b[0m\u001b[0;34m)\u001b[0m\u001b[0;34m\u001b[0m\u001b[0m\n\u001b[0;32m----> 4\u001b[0;31m \u001b[0;32mprint\u001b[0m \u001b[0mconfusion_matrix\u001b[0m\u001b[0;34m(\u001b[0m\u001b[0my_true\u001b[0m\u001b[0;34m,\u001b[0m \u001b[0my_pred\u001b[0m\u001b[0;34m)\u001b[0m\u001b[0;34m\u001b[0m\u001b[0m\n\u001b[0m",
      "\u001b[0;31mNameError\u001b[0m: name 'y_true' is not defined"
     ]
    }
   ],
   "source": [
    "y_pred = clf.predict(x_test)\n",
    "\n",
    "print(classification_report(y_test, y_pred))\n",
    "print confusion_matrix(y_true, y_pred)"
   ]
  },
  {
   "cell_type": "markdown",
   "metadata": {},
   "source": [
    "# MLP with Keras\n",
    "\n",
    "This model currently is not fitting any better than 0.87, which is the accuracy you'd get always choosing, \"No Fire\". I'm not sure if it's a hyperparameter issue, a bug with my keras implementation, or just not the right model for the problem."
   ]
  },
  {
   "cell_type": "code",
   "execution_count": 30,
   "metadata": {
    "collapsed": false
   },
   "outputs": [
    {
     "name": "stdout",
     "output_type": "stream",
     "text": [
      "building model...\n",
      "Training...\n",
      "Train on 136334 samples, validate on 58429 samples\n",
      "Epoch 1/20\n",
      " - 7s - loss: 0.3162 - acc: 0.8891 - val_loss: 0.3052 - val_acc: 0.8945\n",
      "Epoch 2/20\n",
      " - 6s - loss: 0.3034 - acc: 0.8926 - val_loss: 0.3010 - val_acc: 0.8945\n",
      "Epoch 3/20\n",
      " - 6s - loss: 0.3002 - acc: 0.8934 - val_loss: 0.3001 - val_acc: 0.8942\n",
      "Epoch 4/20\n",
      " - 6s - loss: 0.2995 - acc: 0.8938 - val_loss: 0.2993 - val_acc: 0.8938\n",
      "Epoch 5/20\n",
      " - 6s - loss: 0.2971 - acc: 0.8939 - val_loss: 0.2970 - val_acc: 0.8950\n",
      "Epoch 6/20\n",
      " - 6s - loss: 0.2954 - acc: 0.8945 - val_loss: 0.2969 - val_acc: 0.8951\n",
      "Epoch 7/20\n",
      " - 6s - loss: 0.2946 - acc: 0.8945 - val_loss: 0.2961 - val_acc: 0.8957\n",
      "Epoch 8/20\n",
      " - 6s - loss: 0.2937 - acc: 0.8948 - val_loss: 0.2942 - val_acc: 0.8955\n",
      "Epoch 9/20\n",
      " - 6s - loss: 0.2921 - acc: 0.8957 - val_loss: 0.2939 - val_acc: 0.8966\n",
      "Epoch 10/20\n",
      " - 6s - loss: 0.2918 - acc: 0.8956 - val_loss: 0.2919 - val_acc: 0.8975\n",
      "Epoch 11/20\n",
      " - 6s - loss: 0.2910 - acc: 0.8959 - val_loss: 0.2911 - val_acc: 0.8969\n",
      "Epoch 12/20\n",
      " - 6s - loss: 0.2899 - acc: 0.8965 - val_loss: 0.2954 - val_acc: 0.8919\n",
      "Epoch 00012: early stopping\n"
     ]
    },
    {
     "data": {
      "text/plain": [
       "<keras.callbacks.History at 0x126966a90>"
      ]
     },
     "execution_count": 30,
     "metadata": {},
     "output_type": "execute_result"
    }
   ],
   "source": [
    "print \"building model...\"\n",
    "input_dim = x_train.shape[1]\n",
    "\n",
    "model = Sequential()\n",
    "model.add(Dense(256, input_dim=input_dim))\n",
    "# model.add(Dropout(0.15))\n",
    "model.add(Dense(256, activation=\"relu\"))\n",
    "model.add(Dropout(0.15))\n",
    "model.add(Dense(2, activation=\"softmax\"))\n",
    "from keras import optimizers\n",
    "\n",
    "# All parameter gradients will be clipped to\n",
    "# a maximum norm of 1.\n",
    "adam = optimizers.Adam(lr=0.01, clipnorm=1.)\n",
    "\n",
    "model.compile(loss='categorical_crossentropy', optimizer=\"adam\", metrics=['accuracy'])\n",
    "cb = EarlyStopping(monitor='val_loss', patience=0, verbose=2, mode='auto')\n",
    "print(\"Training...\")\n",
    "model.fit(x_train, y_train, epochs=20, batch_size=64, validation_data=[x_test, y_test],  verbose=2, callbacks=[cb])\n",
    "# model.fit(x_train, y_train, epochs=200, batch_size=32, validation_data=[x_test, y_test],  verbose=2, )\n"
   ]
  },
  {
   "cell_type": "code",
   "execution_count": 20,
   "metadata": {
    "collapsed": false
   },
   "outputs": [
    {
     "name": "stdout",
     "output_type": "stream",
     "text": [
      "Generating test predictions...\n",
      "             precision    recall  f1-score   support\n",
      "\n",
      "          0       0.90      0.98      0.94     51038\n",
      "          1       0.72      0.28      0.40      7391\n",
      "\n",
      "avg / total       0.88      0.90      0.87     58429\n",
      "\n"
     ]
    },
    {
     "ename": "NameError",
     "evalue": "name 'y_true' is not defined",
     "output_type": "error",
     "traceback": [
      "\u001b[0;31m---------------------------------------------------------------------------\u001b[0m",
      "\u001b[0;31mNameError\u001b[0m                                 Traceback (most recent call last)",
      "\u001b[0;32m<ipython-input-20-62ca02309d6f>\u001b[0m in \u001b[0;36m<module>\u001b[0;34m()\u001b[0m\n\u001b[1;32m      5\u001b[0m \u001b[0;34m\u001b[0m\u001b[0m\n\u001b[1;32m      6\u001b[0m \u001b[0;32mprint\u001b[0m\u001b[0;34m(\u001b[0m\u001b[0mclassification_report\u001b[0m\u001b[0;34m(\u001b[0m\u001b[0my_test\u001b[0m\u001b[0;34m,\u001b[0m \u001b[0mpreds\u001b[0m\u001b[0;34m)\u001b[0m\u001b[0;34m)\u001b[0m\u001b[0;34m\u001b[0m\u001b[0m\n\u001b[0;32m----> 7\u001b[0;31m \u001b[0;32mprint\u001b[0m \u001b[0mconfusion_matrix\u001b[0m\u001b[0;34m(\u001b[0m\u001b[0my_true\u001b[0m\u001b[0;34m,\u001b[0m \u001b[0my_pred\u001b[0m\u001b[0;34m)\u001b[0m\u001b[0;34m\u001b[0m\u001b[0m\n\u001b[0m",
      "\u001b[0;31mNameError\u001b[0m: name 'y_true' is not defined"
     ]
    }
   ],
   "source": [
    "print(\"Generating test predictions...\")\n",
    "preds = model.predict_classes(x_test, verbose=0)\n",
    "\n",
    "y_test = np.argmax(y_test, axis=1)\n",
    "\n",
    "print(classification_report(y_test, preds))\n",
    "print confusion_matrix(y_true, y_pred)"
   ]
  },
  {
   "cell_type": "markdown",
   "metadata": {},
   "source": [
    "# Decision Tree Classifier"
   ]
  },
  {
   "cell_type": "code",
   "execution_count": 9,
   "metadata": {
    "collapsed": false
   },
   "outputs": [
    {
     "data": {
      "text/plain": [
       "DecisionTreeClassifier(class_weight=None, criterion='gini', max_depth=3,\n",
       "            max_features=None, max_leaf_nodes=None,\n",
       "            min_impurity_decrease=0.0, min_impurity_split=None,\n",
       "            min_samples_leaf=1, min_samples_split=2,\n",
       "            min_weight_fraction_leaf=0.0, presort=False, random_state=415,\n",
       "            splitter='best')"
      ]
     },
     "execution_count": 9,
     "metadata": {},
     "output_type": "execute_result"
    }
   ],
   "source": [
    "# y_train=np.argmax(y_train, axis=1)\n",
    "# y_test=np.argmax(y_test, axis=1)\n",
    "clf = DecisionTreeClassifier(max_depth=3, min_samples_split=2, random_state=415)\n",
    "\n",
    "clf.fit(x_train, y_train)\n",
    "\n",
    "# for feature in zip(x_train.columns, clf.feature_importances_):\n",
    "#     print(feature)"
   ]
  },
  {
   "cell_type": "code",
   "execution_count": 10,
   "metadata": {
    "collapsed": false
   },
   "outputs": [
    {
     "name": "stdout",
     "output_type": "stream",
     "text": [
      "             precision    recall  f1-score   support\n",
      "\n",
      "          0       0.90      0.98      0.94     51038\n",
      "          1       0.67      0.27      0.39      7391\n",
      "\n",
      "avg / total       0.87      0.89      0.87     58429\n",
      "\n",
      "[[50035  1003]\n",
      " [ 5374  2017]]\n"
     ]
    }
   ],
   "source": [
    "y_pred = clf.predict(x_test)\n",
    "print(classification_report(y_test, y_pred))\n",
    "print confusion_matrix(y_test, y_pred)"
   ]
  },
  {
   "cell_type": "markdown",
   "metadata": {},
   "source": [
    "## Vizualize tree using graphviz\n",
    "Checkout: https://www.youtube.com/watch?v=b40sc7lceqs"
   ]
  },
  {
   "cell_type": "code",
   "execution_count": 11,
   "metadata": {
    "collapsed": false,
    "scrolled": false
   },
   "outputs": [
    {
     "data": {
      "image/svg+xml": [
       "<?xml version=\"1.0\" encoding=\"UTF-8\" standalone=\"no\"?>\n",
       "<!DOCTYPE svg PUBLIC \"-//W3C//DTD SVG 1.1//EN\"\n",
       " \"http://www.w3.org/Graphics/SVG/1.1/DTD/svg11.dtd\">\n",
       "<!-- Generated by graphviz version 2.40.1 (20161225.0304)\n",
       " -->\n",
       "<!-- Title: Tree Pages: 1 -->\n",
       "<svg width=\"1245pt\" height=\"414pt\"\n",
       " viewBox=\"0.00 0.00 1245.27 414.00\" xmlns=\"http://www.w3.org/2000/svg\" xmlns:xlink=\"http://www.w3.org/1999/xlink\">\n",
       "<g id=\"graph0\" class=\"graph\" transform=\"scale(1 1) rotate(0) translate(4 410)\">\n",
       "<title>Tree</title>\n",
       "<polygon fill=\"#ffffff\" stroke=\"transparent\" points=\"-4,4 -4,-410 1241.2715,-410 1241.2715,4 -4,4\"/>\n",
       "<!-- 0 -->\n",
       "<g id=\"node1\" class=\"node\">\n",
       "<title>0</title>\n",
       "<path fill=\"#e58139\" fill-opacity=\"0.854902\" stroke=\"#000000\" d=\"M653.127,-406C653.127,-406 511.9307,-406 511.9307,-406 505.9307,-406 499.9307,-400 499.9307,-394 499.9307,-394 499.9307,-340 499.9307,-340 499.9307,-334 505.9307,-328 511.9307,-328 511.9307,-328 653.127,-328 653.127,-328 659.127,-328 665.127,-334 665.127,-340 665.127,-340 665.127,-394 665.127,-394 665.127,-400 659.127,-406 653.127,-406\"/>\n",
       "<text text-anchor=\"start\" x=\"512.146\" y=\"-390.8\" font-family=\"Helvetica,sans-Serif\" font-size=\"14.00\" fill=\"#000000\">Property_Area ≤ 0.142</text>\n",
       "<text text-anchor=\"start\" x=\"546.1377\" y=\"-376.8\" font-family=\"Helvetica,sans-Serif\" font-size=\"14.00\" fill=\"#000000\">gini = 0.221</text>\n",
       "<text text-anchor=\"start\" x=\"525.1274\" y=\"-362.8\" font-family=\"Helvetica,sans-Serif\" font-size=\"14.00\" fill=\"#000000\">samples = 136334</text>\n",
       "<text text-anchor=\"start\" x=\"507.73\" y=\"-348.8\" font-family=\"Helvetica,sans-Serif\" font-size=\"14.00\" fill=\"#000000\">value = [119125, 17209]</text>\n",
       "<text text-anchor=\"start\" x=\"535.6548\" y=\"-334.8\" font-family=\"Helvetica,sans-Serif\" font-size=\"14.00\" fill=\"#000000\">class = No Fire</text>\n",
       "</g>\n",
       "<!-- 1 -->\n",
       "<g id=\"node2\" class=\"node\">\n",
       "<title>1</title>\n",
       "<path fill=\"#e58139\" fill-opacity=\"0.901961\" stroke=\"#000000\" d=\"M560.5323,-292C560.5323,-292 346.5254,-292 346.5254,-292 340.5254,-292 334.5254,-286 334.5254,-280 334.5254,-280 334.5254,-226 334.5254,-226 334.5254,-220 340.5254,-214 346.5254,-214 346.5254,-214 560.5323,-214 560.5323,-214 566.5323,-214 572.5323,-220 572.5323,-226 572.5323,-226 572.5323,-280 572.5323,-280 572.5323,-286 566.5323,-292 560.5323,-292\"/>\n",
       "<text text-anchor=\"start\" x=\"342.2773\" y=\"-276.8\" font-family=\"Helvetica,sans-Serif\" font-size=\"14.00\" fill=\"#000000\">count_potential_fire_control ≤ 0.801</text>\n",
       "<text text-anchor=\"start\" x=\"417.1377\" y=\"-262.8\" font-family=\"Helvetica,sans-Serif\" font-size=\"14.00\" fill=\"#000000\">gini = 0.162</text>\n",
       "<text text-anchor=\"start\" x=\"396.6436\" y=\"-248.8\" font-family=\"Helvetica,sans-Serif\" font-size=\"14.00\" fill=\"#000000\">samples = 124113</text>\n",
       "<text text-anchor=\"start\" x=\"379.2461\" y=\"-234.8\" font-family=\"Helvetica,sans-Serif\" font-size=\"14.00\" fill=\"#000000\">value = [113087, 11026]</text>\n",
       "<text text-anchor=\"start\" x=\"406.6548\" y=\"-220.8\" font-family=\"Helvetica,sans-Serif\" font-size=\"14.00\" fill=\"#000000\">class = No Fire</text>\n",
       "</g>\n",
       "<!-- 0&#45;&gt;1 -->\n",
       "<g id=\"edge1\" class=\"edge\">\n",
       "<title>0&#45;&gt;1</title>\n",
       "<path fill=\"none\" stroke=\"#000000\" d=\"M538.1343,-327.7677C527.6953,-318.5424 516.4755,-308.6273 505.7288,-299.1302\"/>\n",
       "<polygon fill=\"#000000\" stroke=\"#000000\" points=\"507.8161,-296.304 498.0051,-292.3046 503.1807,-301.5493 507.8161,-296.304\"/>\n",
       "<text text-anchor=\"middle\" x=\"499.5454\" y=\"-313.0572\" font-family=\"Helvetica,sans-Serif\" font-size=\"14.00\" fill=\"#000000\">True</text>\n",
       "</g>\n",
       "<!-- 8 -->\n",
       "<g id=\"node9\" class=\"node\">\n",
       "<title>8</title>\n",
       "<path fill=\"#399de5\" fill-opacity=\"0.023529\" stroke=\"#000000\" d=\"M862.2702,-292C862.2702,-292 688.7874,-292 688.7874,-292 682.7874,-292 676.7874,-286 676.7874,-280 676.7874,-280 676.7874,-226 676.7874,-226 676.7874,-220 682.7874,-214 688.7874,-214 688.7874,-214 862.2702,-214 862.2702,-214 868.2702,-214 874.2702,-220 874.2702,-226 874.2702,-226 874.2702,-280 874.2702,-280 874.2702,-286 868.2702,-292 862.2702,-292\"/>\n",
       "<text text-anchor=\"start\" x=\"684.9082\" y=\"-276.8\" font-family=\"Helvetica,sans-Serif\" font-size=\"14.00\" fill=\"#000000\">count_all_complaints ≤ 0.544</text>\n",
       "<text text-anchor=\"start\" x=\"746.9238\" y=\"-262.8\" font-family=\"Helvetica,sans-Serif\" font-size=\"14.00\" fill=\"#000000\">gini = 0.5</text>\n",
       "<text text-anchor=\"start\" x=\"722.0205\" y=\"-248.8\" font-family=\"Helvetica,sans-Serif\" font-size=\"14.00\" fill=\"#000000\">samples = 12221</text>\n",
       "<text text-anchor=\"start\" x=\"711.8931\" y=\"-234.8\" font-family=\"Helvetica,sans-Serif\" font-size=\"14.00\" fill=\"#000000\">value = [6038, 6183]</text>\n",
       "<text text-anchor=\"start\" x=\"739.5479\" y=\"-220.8\" font-family=\"Helvetica,sans-Serif\" font-size=\"14.00\" fill=\"#000000\">class = Fire</text>\n",
       "</g>\n",
       "<!-- 0&#45;&gt;8 -->\n",
       "<g id=\"edge8\" class=\"edge\">\n",
       "<title>0&#45;&gt;8</title>\n",
       "<path fill=\"none\" stroke=\"#000000\" d=\"M648.6784,-327.9272C665.4045,-318.0475 683.485,-307.3678 700.6098,-297.2527\"/>\n",
       "<polygon fill=\"#000000\" stroke=\"#000000\" points=\"702.6355,-300.1212 709.4656,-292.0218 699.0754,-294.0941 702.6355,-300.1212\"/>\n",
       "<text text-anchor=\"middle\" x=\"703.2354\" y=\"-312.033\" font-family=\"Helvetica,sans-Serif\" font-size=\"14.00\" fill=\"#000000\">False</text>\n",
       "</g>\n",
       "<!-- 2 -->\n",
       "<g id=\"node3\" class=\"node\">\n",
       "<title>2</title>\n",
       "<path fill=\"#e58139\" fill-opacity=\"0.909804\" stroke=\"#000000\" d=\"M313.4571,-178C313.4571,-178 175.6005,-178 175.6005,-178 169.6005,-178 163.6005,-172 163.6005,-166 163.6005,-166 163.6005,-112 163.6005,-112 163.6005,-106 169.6005,-100 175.6005,-100 175.6005,-100 313.4571,-100 313.4571,-100 319.4571,-100 325.4571,-106 325.4571,-112 325.4571,-112 325.4571,-166 325.4571,-166 325.4571,-172 319.4571,-178 313.4571,-178\"/>\n",
       "<text text-anchor=\"start\" x=\"171.8149\" y=\"-162.8\" font-family=\"Helvetica,sans-Serif\" font-size=\"14.00\" fill=\"#000000\">Property_Area ≤ &#45;0.065</text>\n",
       "<text text-anchor=\"start\" x=\"212.0308\" y=\"-148.8\" font-family=\"Helvetica,sans-Serif\" font-size=\"14.00\" fill=\"#000000\">gini = 0.15</text>\n",
       "<text text-anchor=\"start\" x=\"187.1274\" y=\"-134.8\" font-family=\"Helvetica,sans-Serif\" font-size=\"14.00\" fill=\"#000000\">samples = 122192</text>\n",
       "<text text-anchor=\"start\" x=\"173.623\" y=\"-120.8\" font-family=\"Helvetica,sans-Serif\" font-size=\"14.00\" fill=\"#000000\">value = [112212, 9980]</text>\n",
       "<text text-anchor=\"start\" x=\"197.6548\" y=\"-106.8\" font-family=\"Helvetica,sans-Serif\" font-size=\"14.00\" fill=\"#000000\">class = No Fire</text>\n",
       "</g>\n",
       "<!-- 1&#45;&gt;2 -->\n",
       "<g id=\"edge2\" class=\"edge\">\n",
       "<title>1&#45;&gt;2</title>\n",
       "<path fill=\"none\" stroke=\"#000000\" d=\"M381.8953,-213.9272C363.5333,-203.9115 343.664,-193.0738 324.8937,-182.8354\"/>\n",
       "<polygon fill=\"#000000\" stroke=\"#000000\" points=\"326.5237,-179.7377 316.0687,-178.0218 323.1717,-185.883 326.5237,-179.7377\"/>\n",
       "</g>\n",
       "<!-- 5 -->\n",
       "<g id=\"node6\" class=\"node\">\n",
       "<title>5</title>\n",
       "<path fill=\"#399de5\" fill-opacity=\"0.164706\" stroke=\"#000000\" d=\"M540.3102,-178C540.3102,-178 366.7474,-178 366.7474,-178 360.7474,-178 354.7474,-172 354.7474,-166 354.7474,-166 354.7474,-112 354.7474,-112 354.7474,-106 360.7474,-100 366.7474,-100 366.7474,-100 540.3102,-100 540.3102,-100 546.3102,-100 552.3102,-106 552.3102,-112 552.3102,-112 552.3102,-166 552.3102,-166 552.3102,-172 546.3102,-178 540.3102,-178\"/>\n",
       "<text text-anchor=\"start\" x=\"362.6382\" y=\"-162.8\" font-family=\"Helvetica,sans-Serif\" font-size=\"14.00\" fill=\"#000000\">avg_household_size ≤ &#45;1.011</text>\n",
       "<text text-anchor=\"start\" x=\"417.1377\" y=\"-148.8\" font-family=\"Helvetica,sans-Serif\" font-size=\"14.00\" fill=\"#000000\">gini = 0.496</text>\n",
       "<text text-anchor=\"start\" x=\"403.9136\" y=\"-134.8\" font-family=\"Helvetica,sans-Serif\" font-size=\"14.00\" fill=\"#000000\">samples = 1921</text>\n",
       "<text text-anchor=\"start\" x=\"393.7861\" y=\"-120.8\" font-family=\"Helvetica,sans-Serif\" font-size=\"14.00\" fill=\"#000000\">value = [875, 1046]</text>\n",
       "<text text-anchor=\"start\" x=\"417.5479\" y=\"-106.8\" font-family=\"Helvetica,sans-Serif\" font-size=\"14.00\" fill=\"#000000\">class = Fire</text>\n",
       "</g>\n",
       "<!-- 1&#45;&gt;5 -->\n",
       "<g id=\"edge5\" class=\"edge\">\n",
       "<title>1&#45;&gt;5</title>\n",
       "<path fill=\"none\" stroke=\"#000000\" d=\"M453.5288,-213.7677C453.5288,-205.6172 453.5288,-196.9283 453.5288,-188.4649\"/>\n",
       "<polygon fill=\"#000000\" stroke=\"#000000\" points=\"457.0289,-188.3046 453.5288,-178.3046 450.0289,-188.3047 457.0289,-188.3046\"/>\n",
       "</g>\n",
       "<!-- 3 -->\n",
       "<g id=\"node4\" class=\"node\">\n",
       "<title>3</title>\n",
       "<path fill=\"#e58139\" fill-opacity=\"0.925490\" stroke=\"#000000\" d=\"M139.0864,-64C139.0864,-64 11.9712,-64 11.9712,-64 5.9712,-64 -.0288,-58 -.0288,-52 -.0288,-52 -.0288,-12 -.0288,-12 -.0288,-6 5.9712,0 11.9712,0 11.9712,0 139.0864,0 139.0864,0 145.0864,0 151.0864,-6 151.0864,-12 151.0864,-12 151.0864,-52 151.0864,-52 151.0864,-58 145.0864,-64 139.0864,-64\"/>\n",
       "<text text-anchor=\"start\" x=\"39.1377\" y=\"-48.8\" font-family=\"Helvetica,sans-Serif\" font-size=\"14.00\" fill=\"#000000\">gini = 0.127</text>\n",
       "<text text-anchor=\"start\" x=\"18.1274\" y=\"-34.8\" font-family=\"Helvetica,sans-Serif\" font-size=\"14.00\" fill=\"#000000\">samples = 103288</text>\n",
       "<text text-anchor=\"start\" x=\"8\" y=\"-20.8\" font-family=\"Helvetica,sans-Serif\" font-size=\"14.00\" fill=\"#000000\">value = [96250, 7038]</text>\n",
       "<text text-anchor=\"start\" x=\"28.6548\" y=\"-6.8\" font-family=\"Helvetica,sans-Serif\" font-size=\"14.00\" fill=\"#000000\">class = No Fire</text>\n",
       "</g>\n",
       "<!-- 2&#45;&gt;3 -->\n",
       "<g id=\"edge3\" class=\"edge\">\n",
       "<title>2&#45;&gt;3</title>\n",
       "<path fill=\"none\" stroke=\"#000000\" d=\"M182.5591,-99.7647C166.9006,-89.8508 150.1286,-79.2318 134.6164,-69.4105\"/>\n",
       "<polygon fill=\"#000000\" stroke=\"#000000\" points=\"136.4644,-66.438 126.1431,-64.0458 132.7198,-72.3523 136.4644,-66.438\"/>\n",
       "</g>\n",
       "<!-- 4 -->\n",
       "<g id=\"node5\" class=\"node\">\n",
       "<title>4</title>\n",
       "<path fill=\"#e58139\" fill-opacity=\"0.815686\" stroke=\"#000000\" d=\"M308.0864,-64C308.0864,-64 180.9712,-64 180.9712,-64 174.9712,-64 168.9712,-58 168.9712,-52 168.9712,-52 168.9712,-12 168.9712,-12 168.9712,-6 174.9712,0 180.9712,0 180.9712,0 308.0864,0 308.0864,0 314.0864,0 320.0864,-6 320.0864,-12 320.0864,-12 320.0864,-52 320.0864,-52 320.0864,-58 314.0864,-64 308.0864,-64\"/>\n",
       "<text text-anchor=\"start\" x=\"208.1377\" y=\"-48.8\" font-family=\"Helvetica,sans-Serif\" font-size=\"14.00\" fill=\"#000000\">gini = 0.263</text>\n",
       "<text text-anchor=\"start\" x=\"191.0205\" y=\"-34.8\" font-family=\"Helvetica,sans-Serif\" font-size=\"14.00\" fill=\"#000000\">samples = 18904</text>\n",
       "<text text-anchor=\"start\" x=\"177\" y=\"-20.8\" font-family=\"Helvetica,sans-Serif\" font-size=\"14.00\" fill=\"#000000\">value = [15962, 2942]</text>\n",
       "<text text-anchor=\"start\" x=\"197.6548\" y=\"-6.8\" font-family=\"Helvetica,sans-Serif\" font-size=\"14.00\" fill=\"#000000\">class = No Fire</text>\n",
       "</g>\n",
       "<!-- 2&#45;&gt;4 -->\n",
       "<g id=\"edge4\" class=\"edge\">\n",
       "<title>2&#45;&gt;4</title>\n",
       "<path fill=\"none\" stroke=\"#000000\" d=\"M244.5288,-99.7647C244.5288,-91.4537 244.5288,-82.6472 244.5288,-74.2305\"/>\n",
       "<polygon fill=\"#000000\" stroke=\"#000000\" points=\"248.0289,-74.2168 244.5288,-64.2169 241.0289,-74.2169 248.0289,-74.2168\"/>\n",
       "</g>\n",
       "<!-- 6 -->\n",
       "<g id=\"node7\" class=\"node\">\n",
       "<title>6</title>\n",
       "<path fill=\"#399de5\" fill-opacity=\"0.596078\" stroke=\"#000000\" d=\"M453.2284,-64C453.2284,-64 349.8292,-64 349.8292,-64 343.8292,-64 337.8292,-58 337.8292,-52 337.8292,-52 337.8292,-12 337.8292,-12 337.8292,-6 343.8292,0 349.8292,0 349.8292,0 453.2284,0 453.2284,0 459.2284,0 465.2284,-6 465.2284,-12 465.2284,-12 465.2284,-52 465.2284,-52 465.2284,-58 459.2284,-64 453.2284,-64\"/>\n",
       "<text text-anchor=\"start\" x=\"369.0308\" y=\"-48.8\" font-family=\"Helvetica,sans-Serif\" font-size=\"14.00\" fill=\"#000000\">gini = 0.41</text>\n",
       "<text text-anchor=\"start\" x=\"355.8066\" y=\"-34.8\" font-family=\"Helvetica,sans-Serif\" font-size=\"14.00\" fill=\"#000000\">samples = 802</text>\n",
       "<text text-anchor=\"start\" x=\"345.6792\" y=\"-20.8\" font-family=\"Helvetica,sans-Serif\" font-size=\"14.00\" fill=\"#000000\">value = [231, 571]</text>\n",
       "<text text-anchor=\"start\" x=\"365.5479\" y=\"-6.8\" font-family=\"Helvetica,sans-Serif\" font-size=\"14.00\" fill=\"#000000\">class = Fire</text>\n",
       "</g>\n",
       "<!-- 5&#45;&gt;6 -->\n",
       "<g id=\"edge6\" class=\"edge\">\n",
       "<title>5&#45;&gt;6</title>\n",
       "<path fill=\"none\" stroke=\"#000000\" d=\"M434.4612,-99.7647C430.289,-91.1797 425.86,-82.066 421.6482,-73.3994\"/>\n",
       "<polygon fill=\"#000000\" stroke=\"#000000\" points=\"424.7046,-71.6812 417.1856,-64.2169 418.4087,-74.7409 424.7046,-71.6812\"/>\n",
       "</g>\n",
       "<!-- 7 -->\n",
       "<g id=\"node8\" class=\"node\">\n",
       "<title>7</title>\n",
       "<path fill=\"#e58139\" fill-opacity=\"0.262745\" stroke=\"#000000\" d=\"M599.2284,-64C599.2284,-64 495.8292,-64 495.8292,-64 489.8292,-64 483.8292,-58 483.8292,-52 483.8292,-52 483.8292,-12 483.8292,-12 483.8292,-6 489.8292,0 495.8292,0 495.8292,0 599.2284,0 599.2284,0 605.2284,0 611.2284,-6 611.2284,-12 611.2284,-12 611.2284,-52 611.2284,-52 611.2284,-58 605.2284,-64 599.2284,-64\"/>\n",
       "<text text-anchor=\"start\" x=\"511.1377\" y=\"-48.8\" font-family=\"Helvetica,sans-Serif\" font-size=\"14.00\" fill=\"#000000\">gini = 0.489</text>\n",
       "<text text-anchor=\"start\" x=\"498.9458\" y=\"-34.8\" font-family=\"Helvetica,sans-Serif\" font-size=\"14.00\" fill=\"#000000\">samples = 1119</text>\n",
       "<text text-anchor=\"start\" x=\"491.6792\" y=\"-20.8\" font-family=\"Helvetica,sans-Serif\" font-size=\"14.00\" fill=\"#000000\">value = [644, 475]</text>\n",
       "<text text-anchor=\"start\" x=\"500.6548\" y=\"-6.8\" font-family=\"Helvetica,sans-Serif\" font-size=\"14.00\" fill=\"#000000\">class = No Fire</text>\n",
       "</g>\n",
       "<!-- 5&#45;&gt;7 -->\n",
       "<g id=\"edge7\" class=\"edge\">\n",
       "<title>5&#45;&gt;7</title>\n",
       "<path fill=\"none\" stroke=\"#000000\" d=\"M487.9972,-99.7647C496.0206,-90.6317 504.5696,-80.9004 512.6121,-71.7456\"/>\n",
       "<polygon fill=\"#000000\" stroke=\"#000000\" points=\"515.2556,-74.0396 519.2261,-64.2169 509.9967,-69.4196 515.2556,-74.0396\"/>\n",
       "</g>\n",
       "<!-- 9 -->\n",
       "<g id=\"node10\" class=\"node\">\n",
       "<title>9</title>\n",
       "<path fill=\"#e58139\" fill-opacity=\"0.250980\" stroke=\"#000000\" d=\"M837.4435,-178C837.4435,-178 713.6142,-178 713.6142,-178 707.6142,-178 701.6142,-172 701.6142,-166 701.6142,-166 701.6142,-112 701.6142,-112 701.6142,-106 707.6142,-100 713.6142,-100 713.6142,-100 837.4435,-100 837.4435,-100 843.4435,-100 849.4435,-106 849.4435,-112 849.4435,-112 849.4435,-166 849.4435,-166 849.4435,-172 843.4435,-178 837.4435,-178\"/>\n",
       "<text text-anchor=\"start\" x=\"709.8218\" y=\"-162.8\" font-family=\"Helvetica,sans-Serif\" font-size=\"14.00\" fill=\"#000000\">Num_Stories ≤ 1.051</text>\n",
       "<text text-anchor=\"start\" x=\"743.0308\" y=\"-148.8\" font-family=\"Helvetica,sans-Serif\" font-size=\"14.00\" fill=\"#000000\">gini = 0.49</text>\n",
       "<text text-anchor=\"start\" x=\"725.9136\" y=\"-134.8\" font-family=\"Helvetica,sans-Serif\" font-size=\"14.00\" fill=\"#000000\">samples = 8866</text>\n",
       "<text text-anchor=\"start\" x=\"711.8931\" y=\"-120.8\" font-family=\"Helvetica,sans-Serif\" font-size=\"14.00\" fill=\"#000000\">value = [5071, 3795]</text>\n",
       "<text text-anchor=\"start\" x=\"728.6548\" y=\"-106.8\" font-family=\"Helvetica,sans-Serif\" font-size=\"14.00\" fill=\"#000000\">class = No Fire</text>\n",
       "</g>\n",
       "<!-- 8&#45;&gt;9 -->\n",
       "<g id=\"edge9\" class=\"edge\">\n",
       "<title>8&#45;&gt;9</title>\n",
       "<path fill=\"none\" stroke=\"#000000\" d=\"M775.5288,-213.7677C775.5288,-205.6172 775.5288,-196.9283 775.5288,-188.4649\"/>\n",
       "<polygon fill=\"#000000\" stroke=\"#000000\" points=\"779.0289,-188.3046 775.5288,-178.3046 772.0289,-188.3047 779.0289,-188.3046\"/>\n",
       "</g>\n",
       "<!-- 12 -->\n",
       "<g id=\"node13\" class=\"node\">\n",
       "<title>12</title>\n",
       "<path fill=\"#399de5\" fill-opacity=\"0.596078\" stroke=\"#000000\" d=\"M1077.9111,-178C1077.9111,-178 955.1465,-178 955.1465,-178 949.1465,-178 943.1465,-172 943.1465,-166 943.1465,-166 943.1465,-112 943.1465,-112 943.1465,-106 949.1465,-100 955.1465,-100 955.1465,-100 1077.9111,-100 1077.9111,-100 1083.9111,-100 1089.9111,-106 1089.9111,-112 1089.9111,-112 1089.9111,-166 1089.9111,-166 1089.9111,-172 1083.9111,-178 1077.9111,-178\"/>\n",
       "<text text-anchor=\"start\" x=\"951.3379\" y=\"-162.8\" font-family=\"Helvetica,sans-Serif\" font-size=\"14.00\" fill=\"#000000\">Num_Stories ≤ 1.114</text>\n",
       "<text text-anchor=\"start\" x=\"984.0308\" y=\"-148.8\" font-family=\"Helvetica,sans-Serif\" font-size=\"14.00\" fill=\"#000000\">gini = 0.41</text>\n",
       "<text text-anchor=\"start\" x=\"966.9136\" y=\"-134.8\" font-family=\"Helvetica,sans-Serif\" font-size=\"14.00\" fill=\"#000000\">samples = 3355</text>\n",
       "<text text-anchor=\"start\" x=\"956.7861\" y=\"-120.8\" font-family=\"Helvetica,sans-Serif\" font-size=\"14.00\" fill=\"#000000\">value = [967, 2388]</text>\n",
       "<text text-anchor=\"start\" x=\"980.5479\" y=\"-106.8\" font-family=\"Helvetica,sans-Serif\" font-size=\"14.00\" fill=\"#000000\">class = Fire</text>\n",
       "</g>\n",
       "<!-- 8&#45;&gt;12 -->\n",
       "<g id=\"edge12\" class=\"edge\">\n",
       "<title>8&#45;&gt;12</title>\n",
       "<path fill=\"none\" stroke=\"#000000\" d=\"M858.1302,-213.9272C882.6573,-202.3251 909.5168,-189.6198 934.037,-178.021\"/>\n",
       "<polygon fill=\"#000000\" stroke=\"#000000\" points=\"935.7673,-181.0744 943.3103,-173.6345 932.774,-174.7467 935.7673,-181.0744\"/>\n",
       "</g>\n",
       "<!-- 10 -->\n",
       "<g id=\"node11\" class=\"node\">\n",
       "<title>10</title>\n",
       "<path fill=\"#e58139\" fill-opacity=\"0.454902\" stroke=\"#000000\" d=\"M759.7683,-64C759.7683,-64 641.2893,-64 641.2893,-64 635.2893,-64 629.2893,-58 629.2893,-52 629.2893,-52 629.2893,-12 629.2893,-12 629.2893,-6 635.2893,0 641.2893,0 641.2893,0 759.7683,0 759.7683,0 765.7683,0 771.7683,-6 771.7683,-12 771.7683,-12 771.7683,-52 771.7683,-52 771.7683,-58 765.7683,-64 759.7683,-64\"/>\n",
       "<text text-anchor=\"start\" x=\"664.1377\" y=\"-48.8\" font-family=\"Helvetica,sans-Serif\" font-size=\"14.00\" fill=\"#000000\">gini = 0.457</text>\n",
       "<text text-anchor=\"start\" x=\"650.9136\" y=\"-34.8\" font-family=\"Helvetica,sans-Serif\" font-size=\"14.00\" fill=\"#000000\">samples = 6050</text>\n",
       "<text text-anchor=\"start\" x=\"637.4092\" y=\"-20.8\" font-family=\"Helvetica,sans-Serif\" font-size=\"14.00\" fill=\"#000000\">value = [3911, 2139]</text>\n",
       "<text text-anchor=\"start\" x=\"653.6548\" y=\"-6.8\" font-family=\"Helvetica,sans-Serif\" font-size=\"14.00\" fill=\"#000000\">class = No Fire</text>\n",
       "</g>\n",
       "<!-- 9&#45;&gt;10 -->\n",
       "<g id=\"edge10\" class=\"edge\">\n",
       "<title>9&#45;&gt;10</title>\n",
       "<path fill=\"none\" stroke=\"#000000\" d=\"M748.0274,-99.7647C741.8179,-90.9057 735.2137,-81.4838 728.9665,-72.571\"/>\n",
       "<polygon fill=\"#000000\" stroke=\"#000000\" points=\"731.7166,-70.3967 723.1107,-64.2169 725.9845,-74.4145 731.7166,-70.3967\"/>\n",
       "</g>\n",
       "<!-- 11 -->\n",
       "<g id=\"node12\" class=\"node\">\n",
       "<title>11</title>\n",
       "<path fill=\"#399de5\" fill-opacity=\"0.298039\" stroke=\"#000000\" d=\"M919.7683,-64C919.7683,-64 801.2893,-64 801.2893,-64 795.2893,-64 789.2893,-58 789.2893,-52 789.2893,-52 789.2893,-12 789.2893,-12 789.2893,-6 795.2893,0 801.2893,0 801.2893,0 919.7683,0 919.7683,0 925.7683,0 931.7683,-6 931.7683,-12 931.7683,-12 931.7683,-52 931.7683,-52 931.7683,-58 925.7683,-64 919.7683,-64\"/>\n",
       "<text text-anchor=\"start\" x=\"824.1377\" y=\"-48.8\" font-family=\"Helvetica,sans-Serif\" font-size=\"14.00\" fill=\"#000000\">gini = 0.484</text>\n",
       "<text text-anchor=\"start\" x=\"810.9136\" y=\"-34.8\" font-family=\"Helvetica,sans-Serif\" font-size=\"14.00\" fill=\"#000000\">samples = 2816</text>\n",
       "<text text-anchor=\"start\" x=\"797.4092\" y=\"-20.8\" font-family=\"Helvetica,sans-Serif\" font-size=\"14.00\" fill=\"#000000\">value = [1160, 1656]</text>\n",
       "<text text-anchor=\"start\" x=\"824.5479\" y=\"-6.8\" font-family=\"Helvetica,sans-Serif\" font-size=\"14.00\" fill=\"#000000\">class = Fire</text>\n",
       "</g>\n",
       "<!-- 9&#45;&gt;11 -->\n",
       "<g id=\"edge11\" class=\"edge\">\n",
       "<title>9&#45;&gt;11</title>\n",
       "<path fill=\"none\" stroke=\"#000000\" d=\"M806.697,-99.7647C813.8071,-90.8144 821.3736,-81.2894 828.5183,-72.2955\"/>\n",
       "<polygon fill=\"#000000\" stroke=\"#000000\" points=\"831.4563,-74.224 834.936,-64.2169 825.9753,-69.8699 831.4563,-74.224\"/>\n",
       "</g>\n",
       "<!-- 13 -->\n",
       "<g id=\"node14\" class=\"node\">\n",
       "<title>13</title>\n",
       "<path fill=\"#399de5\" fill-opacity=\"0.384314\" stroke=\"#000000\" d=\"M1071.9827,-64C1071.9827,-64 961.0749,-64 961.0749,-64 955.0749,-64 949.0749,-58 949.0749,-52 949.0749,-52 949.0749,-12 949.0749,-12 949.0749,-6 955.0749,0 961.0749,0 961.0749,0 1071.9827,0 1071.9827,0 1077.9827,0 1083.9827,-6 1083.9827,-12 1083.9827,-12 1083.9827,-52 1083.9827,-52 1083.9827,-58 1077.9827,-64 1071.9827,-64\"/>\n",
       "<text text-anchor=\"start\" x=\"980.1377\" y=\"-48.8\" font-family=\"Helvetica,sans-Serif\" font-size=\"14.00\" fill=\"#000000\">gini = 0.472</text>\n",
       "<text text-anchor=\"start\" x=\"966.9136\" y=\"-34.8\" font-family=\"Helvetica,sans-Serif\" font-size=\"14.00\" fill=\"#000000\">samples = 1792</text>\n",
       "<text text-anchor=\"start\" x=\"957.3022\" y=\"-20.8\" font-family=\"Helvetica,sans-Serif\" font-size=\"14.00\" fill=\"#000000\">value = [684, 1108]</text>\n",
       "<text text-anchor=\"start\" x=\"980.5479\" y=\"-6.8\" font-family=\"Helvetica,sans-Serif\" font-size=\"14.00\" fill=\"#000000\">class = Fire</text>\n",
       "</g>\n",
       "<!-- 12&#45;&gt;13 -->\n",
       "<g id=\"edge13\" class=\"edge\">\n",
       "<title>12&#45;&gt;13</title>\n",
       "<path fill=\"none\" stroke=\"#000000\" d=\"M1016.5288,-99.7647C1016.5288,-91.4537 1016.5288,-82.6472 1016.5288,-74.2305\"/>\n",
       "<polygon fill=\"#000000\" stroke=\"#000000\" points=\"1020.0289,-74.2168 1016.5288,-64.2169 1013.0289,-74.2169 1020.0289,-74.2168\"/>\n",
       "</g>\n",
       "<!-- 14 -->\n",
       "<g id=\"node15\" class=\"node\">\n",
       "<title>14</title>\n",
       "<path fill=\"#399de5\" fill-opacity=\"0.780392\" stroke=\"#000000\" d=\"M1225.515,-64C1225.515,-64 1113.5426,-64 1113.5426,-64 1107.5426,-64 1101.5426,-58 1101.5426,-52 1101.5426,-52 1101.5426,-12 1101.5426,-12 1101.5426,-6 1107.5426,0 1113.5426,0 1113.5426,0 1225.515,0 1225.515,0 1231.515,0 1237.515,-6 1237.515,-12 1237.515,-12 1237.515,-52 1237.515,-52 1237.515,-58 1231.515,-64 1225.515,-64\"/>\n",
       "<text text-anchor=\"start\" x=\"1133.1377\" y=\"-48.8\" font-family=\"Helvetica,sans-Serif\" font-size=\"14.00\" fill=\"#000000\">gini = 0.297</text>\n",
       "<text text-anchor=\"start\" x=\"1119.9136\" y=\"-34.8\" font-family=\"Helvetica,sans-Serif\" font-size=\"14.00\" fill=\"#000000\">samples = 1563</text>\n",
       "<text text-anchor=\"start\" x=\"1109.7861\" y=\"-20.8\" font-family=\"Helvetica,sans-Serif\" font-size=\"14.00\" fill=\"#000000\">value = [283, 1280]</text>\n",
       "<text text-anchor=\"start\" x=\"1133.5479\" y=\"-6.8\" font-family=\"Helvetica,sans-Serif\" font-size=\"14.00\" fill=\"#000000\">class = Fire</text>\n",
       "</g>\n",
       "<!-- 12&#45;&gt;14 -->\n",
       "<g id=\"edge14\" class=\"edge\">\n",
       "<title>12&#45;&gt;14</title>\n",
       "<path fill=\"none\" stroke=\"#000000\" d=\"M1072.6316,-99.7647C1086.4745,-90.0838 1101.2786,-79.7305 1115.0434,-70.1042\"/>\n",
       "<polygon fill=\"#000000\" stroke=\"#000000\" points=\"1117.2727,-72.8161 1123.4617,-64.2169 1113.261,-67.0797 1117.2727,-72.8161\"/>\n",
       "</g>\n",
       "</g>\n",
       "</svg>\n"
      ],
      "text/plain": [
       "<graphviz.files.Source at 0x106ad5890>"
      ]
     },
     "execution_count": 11,
     "metadata": {},
     "output_type": "execute_result"
    }
   ],
   "source": [
    "dot_data = tree.export_graphviz(clf, out_file=None, \n",
    "                         feature_names=x_df.columns,  \n",
    "                         class_names=[\"No Fire\", \"Fire\"],  \n",
    "                         filled=True, rounded=True,  \n",
    "                         special_characters=True) \n",
    "graph = graphviz.Source(dot_data)\n",
    "\n",
    "graph.render(filename='./tree')\n",
    "graph\n"
   ]
  },
  {
   "cell_type": "markdown",
   "metadata": {},
   "source": [
    "# Logistic Regression"
   ]
  },
  {
   "cell_type": "code",
   "execution_count": 10,
   "metadata": {
    "collapsed": false
   },
   "outputs": [
    {
     "data": {
      "text/plain": [
       "LogisticRegression(C=1.0, class_weight=None, dual=False, fit_intercept=True,\n",
       "          intercept_scaling=1, max_iter=100, multi_class='ovr', n_jobs=1,\n",
       "          penalty='l2', random_state=None, solver='liblinear', tol=0.0001,\n",
       "          verbose=0, warm_start=False)"
      ]
     },
     "execution_count": 10,
     "metadata": {},
     "output_type": "execute_result"
    }
   ],
   "source": [
    "x_train, x_test, y_train, y_test = train_test_split(x_all, y, test_size=.30, random_state=415)\n",
    "\n",
    "clf = LogisticRegression(multi_class=\"ovr\")\n",
    "y_train = np.argmax(y_train, axis=1)\n",
    "y_test = np.argmax(y_test, axis=1)\n",
    "clf.fit(x_train, y_train)\n",
    "\n"
   ]
  },
  {
   "cell_type": "code",
   "execution_count": 5,
   "metadata": {
    "collapsed": false
   },
   "outputs": [
    {
     "name": "stdout",
     "output_type": "stream",
     "text": [
      "             precision    recall  f1-score   support\n",
      "\n",
      "          0       0.90      0.99      0.94     51038\n",
      "          1       0.74      0.21      0.32      7391\n",
      "\n",
      "avg / total       0.88      0.89      0.86     58429\n",
      "\n"
     ]
    },
    {
     "ename": "NameError",
     "evalue": "name 'y_true' is not defined",
     "output_type": "error",
     "traceback": [
      "\u001b[0;31m---------------------------------------------------------------------------\u001b[0m",
      "\u001b[0;31mNameError\u001b[0m                                 Traceback (most recent call last)",
      "\u001b[0;32m<ipython-input-5-36571c26af16>\u001b[0m in \u001b[0;36m<module>\u001b[0;34m()\u001b[0m\n\u001b[1;32m      2\u001b[0m \u001b[0;34m\u001b[0m\u001b[0m\n\u001b[1;32m      3\u001b[0m \u001b[0;32mprint\u001b[0m\u001b[0;34m(\u001b[0m\u001b[0mclassification_report\u001b[0m\u001b[0;34m(\u001b[0m\u001b[0my_test\u001b[0m\u001b[0;34m,\u001b[0m \u001b[0my_pred\u001b[0m\u001b[0;34m)\u001b[0m\u001b[0;34m)\u001b[0m\u001b[0;34m\u001b[0m\u001b[0m\n\u001b[0;32m----> 4\u001b[0;31m \u001b[0;32mprint\u001b[0m \u001b[0mconfusion_matrix\u001b[0m\u001b[0;34m(\u001b[0m\u001b[0my_true\u001b[0m\u001b[0;34m,\u001b[0m \u001b[0my_pred\u001b[0m\u001b[0;34m)\u001b[0m\u001b[0;34m\u001b[0m\u001b[0m\n\u001b[0m",
      "\u001b[0;31mNameError\u001b[0m: name 'y_true' is not defined"
     ]
    }
   ],
   "source": [
    "y_pred = clf.predict(x_test)\n",
    "\n",
    "print(classification_report(y_test, y_pred))\n",
    "print confusion_matrix(y_true, y_pred)"
   ]
  },
  {
   "cell_type": "markdown",
   "metadata": {},
   "source": [
    "# SVM "
   ]
  },
  {
   "cell_type": "code",
   "execution_count": 9,
   "metadata": {
    "collapsed": false
   },
   "outputs": [
    {
     "name": "stdout",
     "output_type": "stream",
     "text": [
      "[LibSVM]"
     ]
    },
    {
     "data": {
      "text/plain": [
       "SVC(C=1.0, cache_size=200, class_weight=None, coef0=0.0,\n",
       "  decision_function_shape='ovr', degree=3, gamma='auto', kernel='rbf',\n",
       "  max_iter=-1, probability=False, random_state=None, shrinking=True,\n",
       "  tol=0.001, verbose=True)"
      ]
     },
     "execution_count": 9,
     "metadata": {},
     "output_type": "execute_result"
    }
   ],
   "source": [
    "clf = svm.SVC(verbose=True)\n",
    "y_train = np.argmax(y_train, axis=1)\n",
    "y_test = np.argmax(y_test, axis=1)\n",
    "clf.fit(x_train, y_train)  "
   ]
  },
  {
   "cell_type": "code",
   "execution_count": 12,
   "metadata": {
    "collapsed": false
   },
   "outputs": [
    {
     "name": "stdout",
     "output_type": "stream",
     "text": [
      "             precision    recall  f1-score   support\n",
      "\n",
      "          0       0.90      0.99      0.94     51038\n",
      "          1       0.74      0.21      0.32      7391\n",
      "\n",
      "avg / total       0.88      0.89      0.86     58429\n",
      "\n",
      "[[50490   548]\n",
      " [ 5869  1522]]\n"
     ]
    }
   ],
   "source": [
    "y_pred = clf.predict(x_test)\n",
    "\n",
    "print(classification_report(y_test, y_pred))\n",
    "print confusion_matrix(y_test, y_pred)"
   ]
  },
  {
   "cell_type": "code",
   "execution_count": null,
   "metadata": {
    "collapsed": false
   },
   "outputs": [],
   "source": [
    "x_quant.head()"
   ]
  },
  {
   "cell_type": "code",
   "execution_count": null,
   "metadata": {
    "collapsed": false
   },
   "outputs": [],
   "source": []
  }
 ],
 "metadata": {
  "anaconda-cloud": {},
  "kernelspec": {
   "display_name": "Python [tf_env]",
   "language": "python",
   "name": "Python [tf_env]"
  },
  "language_info": {
   "codemirror_mode": {
    "name": "ipython",
    "version": 2
   },
   "file_extension": ".py",
   "mimetype": "text/x-python",
   "name": "python",
   "nbconvert_exporter": "python",
   "pygments_lexer": "ipython2",
   "version": "2.7.12"
  }
 },
 "nbformat": 4,
 "nbformat_minor": 2
}
